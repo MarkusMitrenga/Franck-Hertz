{
 "cells": [
  {
   "cell_type": "markdown",
   "metadata": {},
   "source": [
    "# Franck-Hertz-Versuch"
   ]
  },
  {
   "cell_type": "code",
   "execution_count": null,
   "metadata": {},
   "outputs": [],
   "source": [
    "%matplotlib inline\n",
    "\n",
    "import glob,sys,os,string,csv\n",
    "import matplotlib.pyplot as plt\n",
    "import numpy as np\n",
    "import pandas as pd\n",
    "\n",
    "plt.rcParams['figure.figsize'] = (20, 15) #Groesse der Abbildung"
   ]
  },
  {
   "cell_type": "markdown",
   "metadata": {},
   "source": [
    "## Versuchsdaten einlesen\n",
    "Der Cassy - File besteht aus 5 Spalten:\n",
    "* Zeit in s\n",
    "* Saugspannung in V\n",
    "* Gegenspannung in V\n",
    "* Stromstärke in nA\n",
    "* Beschleunigungsspannung in V"
   ]
  },
  {
   "cell_type": "code",
   "execution_count": null,
   "metadata": {
    "scrolled": false
   },
   "outputs": [],
   "source": [
    "print(\"Gefundene Files: \" + \"\\n\")\n",
    "for i in glob.glob('*.csv'):\n",
    "    print(i)\n",
    "    \n",
    "name = input(\"\\n\" + \"Dateinamen ohne Endung angeben: \")\n",
    "df = pd.read_csv(name+\".csv\",sep=\",\",names=[\"t[s]\",\"Usaug[V]\",\"Ugeg[V]\",\"I[nA]\",\"Ubesch[V]\"],skiprows=[0])\n",
    "print(len(df.index)+1,'Zeilen eingelesen...')"
   ]
  },
  {
   "cell_type": "markdown",
   "metadata": {},
   "source": [
    "## Darstellung der Versuchsdaten\n",
    "Um den Versuch auswerten zu können soll die Stromstärke in Abhängigkeit von der Beschleunigungsspannung dargestellt werden."
   ]
  },
  {
   "cell_type": "code",
   "execution_count": null,
   "metadata": {},
   "outputs": [],
   "source": [
    "x = df.columns[4]\n",
    "y = df.columns[3]\n",
    "fig,ax = plt.subplots()\n",
    "ax.plot(df[x],df[y],'b')\n",
    "#ax.set(xlabel = x, ylabel = y, title = name)\n",
    "ax.set_xlabel(x, fontsize = 20)\n",
    "ax.set_ylabel(y, fontsize = 20)\n",
    "ax.set_title(name, fontsize = 25)\n",
    "ax.tick_params(labelsize=20)\n",
    "ax.grid()\n",
    "ax.minorticks_on()\n",
    "plt.show()"
   ]
  },
  {
   "cell_type": "code",
   "execution_count": null,
   "metadata": {},
   "outputs": [],
   "source": []
  }
 ],
 "metadata": {
  "kernelspec": {
   "display_name": "Python 3 (ipykernel)",
   "language": "python",
   "name": "python3"
  },
  "language_info": {
   "codemirror_mode": {
    "name": "ipython",
    "version": 3
   },
   "file_extension": ".py",
   "mimetype": "text/x-python",
   "name": "python",
   "nbconvert_exporter": "python",
   "pygments_lexer": "ipython3",
   "version": "3.9.7"
  }
 },
 "nbformat": 4,
 "nbformat_minor": 2
}
